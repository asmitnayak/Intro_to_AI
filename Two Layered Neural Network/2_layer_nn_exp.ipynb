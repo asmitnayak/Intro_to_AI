{
 "cells": [
  {
   "cell_type": "code",
   "execution_count": 1,
   "metadata": {},
   "outputs": [],
   "source": [
    "import numpy as np\n",
    "from scipy.special import expit\n",
    "from sklearn.utils import shuffle"
   ]
  },
  {
   "cell_type": "code",
   "execution_count": 2,
   "metadata": {
    "pycharm": {
     "name": "#%%\n"
    }
   },
   "outputs": [],
   "source": [
    "# Training data:\n",
    "data = open('mnist_train.csv', \"r\")\n",
    "X = []\n",
    "y = []\n",
    "for line in data:\n",
    "    label = int(line.split(',')[0].strip())\n",
    "    if label == 8 or label == 1:\n",
    "        y.append(0 if label == 8 else 1)\n",
    "        r = line.split(',')[1:]\n",
    "        x = []\n",
    "        for val in r:\n",
    "            x.append(int(val.strip()))\n",
    "        X.append(x)\n",
    "        \n",
    "y = np.array(y)\n",
    "X = np.array(X)\n",
    "X = X/255\n",
    "X_actual = X"
   ]
  },
  {
   "cell_type": "markdown",
   "metadata": {},
   "source": [
    "We have a matrix X = n x m, ie, n images with m features. <br />\n",
    "x<sub>i</sub> is ith row of X"
   ]
  },
  {
   "cell_type": "code",
   "execution_count": 3,
   "metadata": {
    "pycharm": {
     "name": "#%%\n"
    }
   },
   "outputs": [],
   "source": [
    "n = X.shape[0]\n",
    "\n",
    "max_iter = 500\n",
    "alpha = 1e-3\n",
    "b = np.random.rand()\n",
    "\n",
    "act = []\n",
    "\n",
    "cost = []\n",
    "eps = 1e-6"
   ]
  },
  {
   "cell_type": "code",
   "execution_count": 4,
   "metadata": {},
   "outputs": [],
   "source": [
    "def cost_func(y, a):\n",
    "    one = np.ones(len(y))\n",
    "    c = 0\n",
    "    for i in range(len(y)):\n",
    "        yi = y[i]\n",
    "        ln_a1 = np.log(a[i]) if a[i] == 1 else 1e8\n",
    "        ln_a2 = np.log(1 - a[i]) if a[i] != 1 and a[i] > 0 else 1e8\n",
    "        c = c + yi*ln_a1 + (1 - yi)*ln_a2\n",
    "    return c\n",
    "\n",
    "# def act_func(w, xi, bias):\n",
    "#     return expit(w@xi + bias)"
   ]
  },
  {
   "cell_type": "code",
   "execution_count": 5,
   "metadata": {},
   "outputs": [],
   "source": [
    "X = X.T"
   ]
  },
  {
   "cell_type": "code",
   "execution_count": 6,
   "metadata": {
    "pycharm": {
     "name": "#%%\n"
    }
   },
   "outputs": [],
   "source": [
    "'''\n",
    "w is 1 by 784 matrix\n",
    "xi is 784 by 1 matrix => X.T\n",
    "The formula in use (slides):\n",
    "    z = wT@xi + b\n",
    "Here, w = [784 x 1],    in python: [ [1], [2], [3], ... [784] ]\n",
    "So, wT = [1 x 784],     in python: [ 1, 2, 3, ... 784 ]\n",
    "X = [ x1 x2 x3 ... xn ],        where n = 12593\n",
    "in python X = [ [x1], [x2], [x3], ... [xn] ]\n",
    "therefore, xi = [1 x 784] in python\n",
    "According to slides:\n",
    "xi = [784 x 1]\n",
    "in code, xi = [1 x 784]\n",
    "therefore, we have to use: xiT => xi.T in python,\n",
    "hence, we use X = X.T for our code\n",
    "y = [ 1, 2, 3, ... n ],         where n = 12593\n",
    "In slides y = [784 x 1]\n",
    "In python y = [1 x 784]\n",
    "'''\n",
    "wT = np.random.rand(784)     # random weights initialised\n",
    "for i in range(max_iter):    \n",
    "    a = expit(wT@X + b)\n",
    "    '''\n",
    "    The slides say:\n",
    "        w = w + alpha * (ai - yi) * xi\n",
    "    therefore,\n",
    "        wT = wT + alpha * (ai - yi) * xiT\n",
    "    '''     \n",
    "    wT = wT - alpha*(a - y)@X.T\n",
    "    b = b - alpha*(a - y).sum()    \n",
    "    # Finding the cost\n",
    "    c = cost_func(y, a)\n",
    "    cost.append(c)        \n",
    "    \n",
    "    if i > 0:\n",
    "        if abs(cost[i - 1] - cost[i]) <= eps:\n",
    "            print(i)\n",
    "            break"
   ]
  },
  {
   "cell_type": "code",
   "execution_count": 14,
   "metadata": {
    "pycharm": {
     "name": "#%%\n"
    }
   },
   "outputs": [],
   "source": [
    "test = open('test.txt', 'r')\n",
    "X_test = []\n",
    "for line in test:\n",
    "    r = line.split(',')[:]\n",
    "    x_t = []\n",
    "    for val in r:\n",
    "        x_t.append(int(val.strip()))\n",
    "    X_test.append(x_t)\n",
    "\n",
    "X_test = np.array(X_test)\n",
    "X_test = X_test/255\n",
    "X_test = X_test.T\n",
    "\n",
    "log_act = expit(wT@X_test + b)\n",
    "log_pred = np.round(log_act)"
   ]
  },
  {
   "cell_type": "code",
   "execution_count": 15,
   "metadata": {
    "pycharm": {
     "name": "#%%\n"
    }
   },
   "outputs": [],
   "source": [
    "# Question 1:\n",
    "format_2f =  [ '%.2f' % ele for ele in X_actual[np.random.randint(0,X_actual.shape[0]-1,1)[0]] ]\n",
    "s = \"\"\n",
    "i = 0\n",
    "for num in format_2f:\n",
    "    s = s + str(num)\n",
    "    i += 1\n",
    "    if i != len(format_2f):\n",
    "         s = s + \", \"\n",
    "file1 = open(\"q1.txt\", \"w\") \n",
    "file1.write(s)\n",
    "file1.close()\n"
   ]
  },
  {
   "cell_type": "code",
   "execution_count": 16,
   "metadata": {
    "pycharm": {
     "name": "#%%\n"
    }
   },
   "outputs": [],
   "source": [
    "# Question 2:\n",
    "s = \"\"\n",
    "for w in wT:\n",
    "    format_4f =  '%.4f' % w\n",
    "    s = s + str(format_4f) + \", \"    \n",
    "s = s + str(b)\n",
    "file1 = open(\"q2.txt\", \"w\") \n",
    "file1.write(s)\n",
    "file1.close()"
   ]
  },
  {
   "cell_type": "code",
   "execution_count": 17,
   "metadata": {
    "pycharm": {
     "name": "#%%\n"
    }
   },
   "outputs": [],
   "source": [
    "# Question 3:\n",
    "format_2f =  [ '%.2f' % ele for ele in log_act]\n",
    "s = \"\"\n",
    "i = 0\n",
    "for num in format_2f:\n",
    "    s = s + str(num)\n",
    "    i += 1\n",
    "    if i != len(format_2f):\n",
    "         s = s + \", \"\n",
    "file1 = open(\"q3.txt\", \"w\") \n",
    "file1.write(s)\n",
    "file1.close()\n",
    "\n"
   ]
  },
  {
   "cell_type": "code",
   "execution_count": 18,
   "metadata": {},
   "outputs": [],
   "source": [
    "# Question 4:\n",
    "format_2f =  [ '%.0f' % ele for ele in log_pred]\n",
    "s = \"\"\n",
    "i = 0\n",
    "for num in format_2f:\n",
    "    s = s + str(num)\n",
    "    i += 1\n",
    "    if i != len(format_2f):\n",
    "         s = s + \", \"\n",
    "file1 = open(\"q4.txt\", \"w\") \n",
    "file1.write(s)\n",
    "file1.close()"
   ]
  },
  {
   "cell_type": "code",
   "execution_count": 19,
   "metadata": {
    "collapsed": true,
    "pycharm": {
     "name": "#%%\n"
    }
   },
   "outputs": [],
   "source": [
    "# import matplotlib.pyplot as plt\n",
    "# for i in range(200):\n",
    "#     pixels = X_test[:, i]\n",
    "#     pixels = pixels.reshape((28, 28))\n",
    "#     l = str(i+1) + \"th pic is Label: \" + str(log_pred[i])\n",
    "#     plt.title(l)\n",
    "#     plt.imshow(pixels, cmap='gray')\n",
    "#     plt.show()\n"
   ]
  },
  {
   "cell_type": "markdown",
   "metadata": {},
   "source": [
    "# Neural Network"
   ]
  },
  {
   "cell_type": "code",
   "execution_count": 20,
   "outputs": [],
   "source": [
    "# lr = 0.01\n",
    "# hidden_units = int(X_actual.shape[1] / 2)\n",
    "# num_train = len(X_actual)\n",
    "# train_x = np.hstack((X_actual, np.ones(num_train).reshape(-1,1)))\n",
    "# train_y = y\n",
    "# input_units = train_x.shape[1]\n",
    "#\n",
    "# w_i_h =  np.random.uniform(low=-1, high=1, size=(hidden_units, input_units))\n",
    "# w_h_o = np.random.uniform(low=-1, high=1, size=(1, hidden_units + 1))\n",
    "# prev = 0\n",
    "# for _ in range(max_iter):\n",
    "#     out_o = np.zeros(num_train)\n",
    "#     out_h = np.zeros((num_train, hidden_units+1))       # +1 for bias\n",
    "#     out_h[:, -1] = 1\n",
    "#     for i in range(num_train):\n",
    "#         row = train_x[i]\n",
    "#         z_i_h = w_i_h@row\n",
    "#         out_h[i, :-1] = expit(z_i_h)\n",
    "#         out_o[i] = expit((out_h[i]@w_h_o.T)[0])\n",
    "#\n",
    "#         diff = expit(out_h[i])@expit(1 - out_h[i])\n",
    "#         delta = np.multiply(diff, (train_y[i] - out_o[i]) * np.squeeze(w_h_o))\n",
    "#\n",
    "#         w_i_h += lr*(np.expand_dims(delta[:-1], axis=1)@np.expand_dims(row, axis=0))\n",
    "#         w_h_o += np.expand_dims(lr * (train_y[i] - out_o[i]) * out_h[i,:], axis=0)\n",
    "#\n",
    "#     error = cost_func(y, out_o)\n",
    "#     num_correct = sum((out_o > 0.5).astype(int) == train_y)\n",
    "#     print('epoch = ', _, ' error = {:.7}'.format(error), 'correctly classified = {:.4%}'.format(num_correct / num_train))\n",
    "#     if _ > 1 and abs(error - prev) <= eps:\n",
    "#         print(\"done\")\n",
    "#         break\n",
    "#     prev = error\n",
    "\n"
   ],
   "metadata": {
    "collapsed": false,
    "pycharm": {
     "name": "#%%\n"
    }
   }
  },
  {
   "cell_type": "code",
   "execution_count": 12,
   "metadata": {},
   "outputs": [
    {
     "name": "stdout",
     "output_type": "stream",
     "text": [
      "i: = 0\n"
     ]
    },
    {
     "ename": "KeyboardInterrupt",
     "evalue": "",
     "output_type": "error",
     "traceback": [
      "\u001B[1;31m---------------------------------------------------------------------------\u001B[0m",
      "\u001B[1;31mKeyboardInterrupt\u001B[0m                         Traceback (most recent call last)",
      "\u001B[1;32m<ipython-input-12-959c027b0b07>\u001B[0m in \u001B[0;36m<module>\u001B[1;34m\u001B[0m\n\u001B[0;32m     17\u001B[0m     \u001B[0mact\u001B[0m \u001B[1;33m=\u001B[0m \u001B[1;33m[\u001B[0m\u001B[1;33m]\u001B[0m\u001B[1;33m\u001B[0m\u001B[0m\n\u001B[0;32m     18\u001B[0m     \u001B[0mX\u001B[0m\u001B[1;33m,\u001B[0m \u001B[0my_rand\u001B[0m \u001B[1;33m=\u001B[0m \u001B[0mshuffle\u001B[0m\u001B[1;33m(\u001B[0m\u001B[0mX\u001B[0m\u001B[1;33m,\u001B[0m \u001B[0my_rand\u001B[0m\u001B[1;33m)\u001B[0m\u001B[1;33m\u001B[0m\u001B[0m\n\u001B[1;32m---> 19\u001B[1;33m     \u001B[1;32mfor\u001B[0m \u001B[0mi\u001B[0m \u001B[1;32min\u001B[0m \u001B[0mrange\u001B[0m\u001B[1;33m(\u001B[0m\u001B[0mlen\u001B[0m\u001B[1;33m(\u001B[0m\u001B[0mX\u001B[0m\u001B[1;33m)\u001B[0m\u001B[1;33m)\u001B[0m\u001B[1;33m:\u001B[0m\u001B[1;33m\u001B[0m\u001B[0m\n\u001B[0m\u001B[0;32m     20\u001B[0m         \u001B[0mxi\u001B[0m \u001B[1;33m=\u001B[0m \u001B[0mX\u001B[0m\u001B[1;33m[\u001B[0m\u001B[0mi\u001B[0m\u001B[1;33m]\u001B[0m\u001B[1;33m.\u001B[0m\u001B[0mreshape\u001B[0m\u001B[1;33m(\u001B[0m\u001B[1;33m(\u001B[0m\u001B[0mX\u001B[0m\u001B[1;33m.\u001B[0m\u001B[0mshape\u001B[0m\u001B[1;33m[\u001B[0m\u001B[1;36m1\u001B[0m\u001B[1;33m]\u001B[0m\u001B[1;33m,\u001B[0m \u001B[1;36m1\u001B[0m\u001B[1;33m)\u001B[0m\u001B[1;33m)\u001B[0m      \u001B[1;31m# 784 by 1\u001B[0m\u001B[1;33m\u001B[0m\u001B[0m\n\u001B[0;32m     21\u001B[0m         \u001B[0mz_i_h\u001B[0m \u001B[1;33m=\u001B[0m \u001B[0mw_1\u001B[0m\u001B[1;33m@\u001B[0m\u001B[0mxi\u001B[0m \u001B[1;33m+\u001B[0m \u001B[0mbias_h\u001B[0m\u001B[1;33m\u001B[0m\u001B[0m\n",
      "\u001B[1;32m<ipython-input-12-959c027b0b07>\u001B[0m in \u001B[0;36m<module>\u001B[1;34m\u001B[0m\n\u001B[0;32m     17\u001B[0m     \u001B[0mact\u001B[0m \u001B[1;33m=\u001B[0m \u001B[1;33m[\u001B[0m\u001B[1;33m]\u001B[0m\u001B[1;33m\u001B[0m\u001B[0m\n\u001B[0;32m     18\u001B[0m     \u001B[0mX\u001B[0m\u001B[1;33m,\u001B[0m \u001B[0my_rand\u001B[0m \u001B[1;33m=\u001B[0m \u001B[0mshuffle\u001B[0m\u001B[1;33m(\u001B[0m\u001B[0mX\u001B[0m\u001B[1;33m,\u001B[0m \u001B[0my_rand\u001B[0m\u001B[1;33m)\u001B[0m\u001B[1;33m\u001B[0m\u001B[0m\n\u001B[1;32m---> 19\u001B[1;33m     \u001B[1;32mfor\u001B[0m \u001B[0mi\u001B[0m \u001B[1;32min\u001B[0m \u001B[0mrange\u001B[0m\u001B[1;33m(\u001B[0m\u001B[0mlen\u001B[0m\u001B[1;33m(\u001B[0m\u001B[0mX\u001B[0m\u001B[1;33m)\u001B[0m\u001B[1;33m)\u001B[0m\u001B[1;33m:\u001B[0m\u001B[1;33m\u001B[0m\u001B[0m\n\u001B[0m\u001B[0;32m     20\u001B[0m         \u001B[0mxi\u001B[0m \u001B[1;33m=\u001B[0m \u001B[0mX\u001B[0m\u001B[1;33m[\u001B[0m\u001B[0mi\u001B[0m\u001B[1;33m]\u001B[0m\u001B[1;33m.\u001B[0m\u001B[0mreshape\u001B[0m\u001B[1;33m(\u001B[0m\u001B[1;33m(\u001B[0m\u001B[0mX\u001B[0m\u001B[1;33m.\u001B[0m\u001B[0mshape\u001B[0m\u001B[1;33m[\u001B[0m\u001B[1;36m1\u001B[0m\u001B[1;33m]\u001B[0m\u001B[1;33m,\u001B[0m \u001B[1;36m1\u001B[0m\u001B[1;33m)\u001B[0m\u001B[1;33m)\u001B[0m      \u001B[1;31m# 784 by 1\u001B[0m\u001B[1;33m\u001B[0m\u001B[0m\n\u001B[0;32m     21\u001B[0m         \u001B[0mz_i_h\u001B[0m \u001B[1;33m=\u001B[0m \u001B[0mw_1\u001B[0m\u001B[1;33m@\u001B[0m\u001B[0mxi\u001B[0m \u001B[1;33m+\u001B[0m \u001B[0mbias_h\u001B[0m\u001B[1;33m\u001B[0m\u001B[0m\n",
      "\u001B[1;32m_pydevd_bundle\\pydevd_cython_win32_37_64.pyx\u001B[0m in \u001B[0;36m_pydevd_bundle.pydevd_cython_win32_37_64.SafeCallWrapper.__call__\u001B[1;34m()\u001B[0m\n",
      "\u001B[1;32m_pydevd_bundle\\pydevd_cython_win32_37_64.pyx\u001B[0m in \u001B[0;36m_pydevd_bundle.pydevd_cython_win32_37_64.PyDBFrame.trace_dispatch\u001B[1;34m()\u001B[0m\n",
      "\u001B[1;32m_pydevd_bundle\\pydevd_cython_win32_37_64.pyx\u001B[0m in \u001B[0;36m_pydevd_bundle.pydevd_cython_win32_37_64.PyDBFrame.trace_dispatch\u001B[1;34m()\u001B[0m\n",
      "\u001B[1;32m_pydevd_bundle\\pydevd_cython_win32_37_64.pyx\u001B[0m in \u001B[0;36m_pydevd_bundle.pydevd_cython_win32_37_64.PyDBFrame.trace_dispatch\u001B[1;34m()\u001B[0m\n",
      "\u001B[1;32mC:\\Program Files\\JetBrains\\PyCharm 2020.1.2\\plugins\\python\\helpers-pro\\jupyter_debug\\pydev_jupyter_plugin.py\u001B[0m in \u001B[0;36mstop\u001B[1;34m(plugin, pydb, frame, event, args, stop_info, arg, step_cmd)\u001B[0m\n\u001B[0;32m    163\u001B[0m         \u001B[0mframe\u001B[0m \u001B[1;33m=\u001B[0m \u001B[0msuspend_jupyter\u001B[0m\u001B[1;33m(\u001B[0m\u001B[0mmain_debugger\u001B[0m\u001B[1;33m,\u001B[0m \u001B[0mthread\u001B[0m\u001B[1;33m,\u001B[0m \u001B[0mframe\u001B[0m\u001B[1;33m,\u001B[0m \u001B[0mstep_cmd\u001B[0m\u001B[1;33m)\u001B[0m\u001B[1;33m\u001B[0m\u001B[0m\n\u001B[0;32m    164\u001B[0m         \u001B[1;32mif\u001B[0m \u001B[0mframe\u001B[0m\u001B[1;33m:\u001B[0m\u001B[1;33m\u001B[0m\u001B[0m\n\u001B[1;32m--> 165\u001B[1;33m             \u001B[0mmain_debugger\u001B[0m\u001B[1;33m.\u001B[0m\u001B[0mdo_wait_suspend\u001B[0m\u001B[1;33m(\u001B[0m\u001B[0mthread\u001B[0m\u001B[1;33m,\u001B[0m \u001B[0mframe\u001B[0m\u001B[1;33m,\u001B[0m \u001B[0mevent\u001B[0m\u001B[1;33m,\u001B[0m \u001B[0marg\u001B[0m\u001B[1;33m)\u001B[0m\u001B[1;33m\u001B[0m\u001B[0m\n\u001B[0m\u001B[0;32m    166\u001B[0m             \u001B[1;32mreturn\u001B[0m \u001B[1;32mTrue\u001B[0m\u001B[1;33m\u001B[0m\u001B[0m\n\u001B[0;32m    167\u001B[0m     \u001B[1;32mreturn\u001B[0m \u001B[1;32mFalse\u001B[0m\u001B[1;33m\u001B[0m\u001B[0m\n",
      "\u001B[1;32mC:\\Program Files\\JetBrains\\PyCharm 2020.1.2\\plugins\\python\\helpers\\pydev\\pydevd.py\u001B[0m in \u001B[0;36mdo_wait_suspend\u001B[1;34m(self, thread, frame, event, arg, send_suspend_message, is_unhandled_exception)\u001B[0m\n\u001B[0;32m   1101\u001B[0m \u001B[1;33m\u001B[0m\u001B[0m\n\u001B[0;32m   1102\u001B[0m         \u001B[1;32mwith\u001B[0m \u001B[0mself\u001B[0m\u001B[1;33m.\u001B[0m\u001B[0m_threads_suspended_single_notification\u001B[0m\u001B[1;33m.\u001B[0m\u001B[0mnotify_thread_suspended\u001B[0m\u001B[1;33m(\u001B[0m\u001B[0mthread_id\u001B[0m\u001B[1;33m,\u001B[0m \u001B[0mstop_reason\u001B[0m\u001B[1;33m)\u001B[0m\u001B[1;33m:\u001B[0m\u001B[1;33m\u001B[0m\u001B[0m\n\u001B[1;32m-> 1103\u001B[1;33m             \u001B[0mself\u001B[0m\u001B[1;33m.\u001B[0m\u001B[0m_do_wait_suspend\u001B[0m\u001B[1;33m(\u001B[0m\u001B[0mthread\u001B[0m\u001B[1;33m,\u001B[0m \u001B[0mframe\u001B[0m\u001B[1;33m,\u001B[0m \u001B[0mevent\u001B[0m\u001B[1;33m,\u001B[0m \u001B[0marg\u001B[0m\u001B[1;33m,\u001B[0m \u001B[0msuspend_type\u001B[0m\u001B[1;33m,\u001B[0m \u001B[0mfrom_this_thread\u001B[0m\u001B[1;33m)\u001B[0m\u001B[1;33m\u001B[0m\u001B[0m\n\u001B[0m\u001B[0;32m   1104\u001B[0m \u001B[1;33m\u001B[0m\u001B[0m\n\u001B[0;32m   1105\u001B[0m     \u001B[1;32mdef\u001B[0m \u001B[0m_do_wait_suspend\u001B[0m\u001B[1;33m(\u001B[0m\u001B[0mself\u001B[0m\u001B[1;33m,\u001B[0m \u001B[0mthread\u001B[0m\u001B[1;33m,\u001B[0m \u001B[0mframe\u001B[0m\u001B[1;33m,\u001B[0m \u001B[0mevent\u001B[0m\u001B[1;33m,\u001B[0m \u001B[0marg\u001B[0m\u001B[1;33m,\u001B[0m \u001B[0msuspend_type\u001B[0m\u001B[1;33m,\u001B[0m \u001B[0mfrom_this_thread\u001B[0m\u001B[1;33m)\u001B[0m\u001B[1;33m:\u001B[0m\u001B[1;33m\u001B[0m\u001B[0m\n",
      "\u001B[1;32mC:\\Program Files\\JetBrains\\PyCharm 2020.1.2\\plugins\\python\\helpers\\pydev\\pydevd.py\u001B[0m in \u001B[0;36m_do_wait_suspend\u001B[1;34m(self, thread, frame, event, arg, suspend_type, from_this_thread)\u001B[0m\n\u001B[0;32m   1116\u001B[0m \u001B[1;33m\u001B[0m\u001B[0m\n\u001B[0;32m   1117\u001B[0m                 \u001B[0mself\u001B[0m\u001B[1;33m.\u001B[0m\u001B[0mprocess_internal_commands\u001B[0m\u001B[1;33m(\u001B[0m\u001B[1;33m)\u001B[0m\u001B[1;33m\u001B[0m\u001B[0m\n\u001B[1;32m-> 1118\u001B[1;33m                 \u001B[0mtime\u001B[0m\u001B[1;33m.\u001B[0m\u001B[0msleep\u001B[0m\u001B[1;33m(\u001B[0m\u001B[1;36m0.01\u001B[0m\u001B[1;33m)\u001B[0m\u001B[1;33m\u001B[0m\u001B[0m\n\u001B[0m\u001B[0;32m   1119\u001B[0m \u001B[1;33m\u001B[0m\u001B[0m\n\u001B[0;32m   1120\u001B[0m         \u001B[0mself\u001B[0m\u001B[1;33m.\u001B[0m\u001B[0mcancel_async_evaluation\u001B[0m\u001B[1;33m(\u001B[0m\u001B[0mget_current_thread_id\u001B[0m\u001B[1;33m(\u001B[0m\u001B[0mthread\u001B[0m\u001B[1;33m)\u001B[0m\u001B[1;33m,\u001B[0m \u001B[0mstr\u001B[0m\u001B[1;33m(\u001B[0m\u001B[0mid\u001B[0m\u001B[1;33m(\u001B[0m\u001B[0mframe\u001B[0m\u001B[1;33m)\u001B[0m\u001B[1;33m)\u001B[0m\u001B[1;33m)\u001B[0m\u001B[1;33m\u001B[0m\u001B[0m\n",
      "\u001B[1;31mKeyboardInterrupt\u001B[0m: "
     ]
    }
   ],
   "source": [
    "input_units = X_actual.shape[1]\n",
    "hidden_units = int(input_units / 2)\n",
    "w_1 = np.random.uniform(-1,1,(hidden_units, input_units))\n",
    "w_j2 = np.random.uniform(-1,1,(1, hidden_units))  #wj2\n",
    "prev_error = 0\n",
    "bias_h = np.ones(hidden_units).reshape((392,1))\n",
    "bias_o = 1\n",
    "Cb1 = np.zeros((392,1))\n",
    "Cb2 = 0\n",
    "Cw1 = np.zeros((hidden_units, input_units))\n",
    "Cw2 = np.zeros((1, 392))\n",
    "for _ in range(max_iter):\n",
    "    print(\"i: =\", _)\n",
    "    X = X_actual\n",
    "    y_rand = y\n",
    "    act = []\n",
    "    X, y_rand = shuffle(X, y_rand)\n",
    "    for i in range(len(X)):\n",
    "        xi = X[i].reshape((X.shape[1], 1))\n",
    "        z_i_h = w_1@xi + bias_h\n",
    "        aij = expit(z_i_h)\n",
    "        z_h_o = w_j2@aij + bias_o\n",
    "        ai = expit(z_h_o)[0][0]\n",
    "        yi = y[i]\n",
    "\n",
    "        Cb2 = np.squeeze((ai - yi)*ai*(1-ai))\n",
    "        Cw2 = Cb2*aij\n",
    "        Cb1 = np.multiply(np.multiply(Cb2*w_j2.T,aij),(1 - aij))\n",
    "        Cw1 = Cb1@xi.T\n",
    "\n",
    "        w_1 = w_1 - alpha*Cw1\n",
    "        bias_h = bias_h - alpha*Cb1\n",
    "        w_j2 = w_j2 - alpha*Cw2.T\n",
    "        bias_o = bias_o - alpha*Cb2\n",
    "\n",
    "        act.append(ai)\n",
    "\n",
    "    C = cost_func(y_rand, act)\n",
    "    if _ > 1 and abs(C - prev_error) <= eps:\n",
    "        print(_)\n",
    "        break\n",
    "    print(\"C: \", C)\n",
    "    print(\"prev: \", prev_error)\n",
    "    acc = sum((np.array(act) > 0.5).astype(int) == y_rand)\n",
    "    print(\"Accuracy: \", acc/len(y_rand))\n",
    "    prev_error = C"
   ]
  },
  {
   "cell_type": "code",
   "execution_count": 22,
   "outputs": [
    {
     "ename": "ValueError",
     "evalue": "cannot reshape array of size 200 into shape (784,1)",
     "output_type": "error",
     "traceback": [
      "\u001B[1;31m---------------------------------------------------------------------------\u001B[0m",
      "\u001B[1;31mValueError\u001B[0m                                Traceback (most recent call last)",
      "\u001B[1;32m<ipython-input-22-5d1c828806f5>\u001B[0m in \u001B[0;36m<module>\u001B[1;34m\u001B[0m\n\u001B[0;32m      2\u001B[0m \u001B[1;33m\u001B[0m\u001B[0m\n\u001B[0;32m      3\u001B[0m \u001B[1;32mfor\u001B[0m \u001B[0mi\u001B[0m \u001B[1;32min\u001B[0m \u001B[0mrange\u001B[0m\u001B[1;33m(\u001B[0m\u001B[0mlen\u001B[0m\u001B[1;33m(\u001B[0m\u001B[0mX_test\u001B[0m\u001B[1;33m)\u001B[0m\u001B[1;33m)\u001B[0m\u001B[1;33m:\u001B[0m\u001B[1;33m\u001B[0m\u001B[0m\n\u001B[1;32m----> 4\u001B[1;33m     \u001B[0mxi\u001B[0m \u001B[1;33m=\u001B[0m \u001B[0mX_test\u001B[0m\u001B[1;33m[\u001B[0m\u001B[0mi\u001B[0m\u001B[1;33m]\u001B[0m\u001B[1;33m.\u001B[0m\u001B[0mreshape\u001B[0m\u001B[1;33m(\u001B[0m\u001B[1;33m(\u001B[0m\u001B[0mX_test\u001B[0m\u001B[1;33m.\u001B[0m\u001B[0mshape\u001B[0m\u001B[1;33m[\u001B[0m\u001B[1;36m0\u001B[0m\u001B[1;33m]\u001B[0m\u001B[1;33m,\u001B[0m \u001B[1;36m1\u001B[0m\u001B[1;33m)\u001B[0m\u001B[1;33m)\u001B[0m\u001B[1;33m\u001B[0m\u001B[0m\n\u001B[0m\u001B[0;32m      5\u001B[0m     \u001B[0mz_i_h\u001B[0m \u001B[1;33m=\u001B[0m \u001B[0mw_1\u001B[0m\u001B[1;33m@\u001B[0m\u001B[0mxi\u001B[0m \u001B[1;33m+\u001B[0m \u001B[0mbias_h\u001B[0m\u001B[1;33m\u001B[0m\u001B[0m\n\u001B[0;32m      6\u001B[0m     \u001B[0maij\u001B[0m \u001B[1;33m=\u001B[0m \u001B[0mexpit\u001B[0m\u001B[1;33m(\u001B[0m\u001B[0mz_i_h\u001B[0m\u001B[1;33m)\u001B[0m\u001B[1;33m\u001B[0m\u001B[0m\n",
      "\u001B[1;31mValueError\u001B[0m: cannot reshape array of size 200 into shape (784,1)"
     ]
    }
   ],
   "source": [
    "nn_act = []\n",
    "\n",
    "for i in range(len(X_test)):\n",
    "    xi = X_test[i].reshape((X_test.shape[0], 1))\n",
    "    z_i_h = w_1@xi + bias_h\n",
    "    aij = expit(z_i_h)\n",
    "    z_h_o = w_j2@aij + bias_o\n",
    "    ai = expit(z_h_o)[0][0]\n",
    "    nn_act.append(ai)\n",
    "\n",
    "nn_pred = np.round(nn_act)"
   ],
   "metadata": {
    "collapsed": false,
    "pycharm": {
     "name": "#%%\n"
    }
   }
  },
  {
   "cell_type": "code",
   "execution_count": null,
   "metadata": {},
   "outputs": [],
   "source": [
    "t = np.array([[1,11,111],[2,22,222],[3,33,333],[4,44,444]])\n",
    "#train_x = np.hstack((t, np.ones(len(t)).reshape(-1,1)))\n",
    "# temp2 = np.array([1,2,3])\n",
    "#temp, temp2 = shuffle(temp, temp2)\n",
    "print(t)\n",
    "print(t[0, :-1], \"\\n\\n\")"
   ]
  },
  {
   "cell_type": "code",
   "execution_count": null,
   "metadata": {
    "pycharm": {
     "name": "#%%\n"
    }
   },
   "outputs": [],
   "source": [
    "t2 = np.squeeze(np.array([1]))\n",
    "print(t2)"
   ]
  },
  {
   "cell_type": "code",
   "execution_count": null,
   "metadata": {
    "pycharm": {
     "name": "#%%\n"
    }
   },
   "outputs": [],
   "source": [
    "print(nn_pred)\n"
   ]
  }
 ],
 "metadata": {
  "kernelspec": {
   "display_name": "Python 3",
   "language": "python",
   "name": "python3"
  },
  "language_info": {
   "codemirror_mode": {
    "name": "ipython",
    "version": 3
   },
   "file_extension": ".py",
   "mimetype": "text/x-python",
   "name": "python",
   "nbconvert_exporter": "python",
   "pygments_lexer": "ipython3",
   "version": "3.7.0"
  }
 },
 "nbformat": 4,
 "nbformat_minor": 1
}